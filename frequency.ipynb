{
 "cells": [
  {
   "cell_type": "code",
   "execution_count": 1,
   "metadata": {},
   "outputs": [],
   "source": [
    "import spacy\n",
    "from spacy.lang.en import English\n",
    "import nltk\n",
    "from nltk.corpus import wordnet as wn\n",
    "import pickle\n",
    "from collections import Counter\n",
    "import re\n",
    "import pandas as pd"
   ]
  },
  {
   "cell_type": "markdown",
   "metadata": {},
   "source": [
    "# Most frequent words"
   ]
  },
  {
   "cell_type": "code",
   "execution_count": 2,
   "metadata": {},
   "outputs": [],
   "source": [
    "spacy.load('en')\n",
    "parser = English()\n",
    "\n",
    "### 分词：“I am a pig\" -> [\"I\", \"am\", \"a\", \"pig\"]\n",
    "def tokenize(text):\n",
    "    lda_tokens = []\n",
    "    tokens = parser(text)\n",
    "    for token in tokens:\n",
    "        if token.orth_.isspace():\n",
    "            continue\n",
    "        elif token.like_url:\n",
    "            lda_tokens.append('URL')\n",
    "        elif token.orth_.startswith('@'):\n",
    "            lda_tokens.append('SCREEN_NAME')\n",
    "        else:\n",
    "            lda_tokens.append(token.lower_)\n",
    "    return lda_tokens\n",
    "\n",
    "### 找词根\n",
    "def get_lemma(word):\n",
    "    # denied -> deny\n",
    "    lemma = wn.morphy(word)\n",
    "    if lemma is None:\n",
    "        return word\n",
    "    else:\n",
    "        return lemma\n",
    "    \n",
    "### 没有意义的助词    \n",
    "en_stop = set(nltk.corpus.stopwords.words('english'))\n",
    "\n",
    "### \n",
    "def prepare_text_for_lda(text):\n",
    "    tokens = nltk.word_tokenize(text) #分词#\n",
    "    tokens = [token.lower() for token in tokens if token.isalpha()] #删除非单词并且全部小写#\n",
    "    tokens = [token for token in tokens if token not in en_stop]  #删除无意义助词#\n",
    "    tokens = [get_lemma(token) for token in tokens] #拿词根#\n",
    "    return tokens"
   ]
  },
  {
   "cell_type": "code",
   "execution_count": 3,
   "metadata": {},
   "outputs": [],
   "source": [
    "### 数词出现的次数\n",
    "def get_frequency(file_name):\n",
    "    with open(file_name, 'rb') as file:\n",
    "        data = pickle.load(file)\n",
    "    articles = data['articles']\n",
    "    print(len(articles))\n",
    "    frequency = Counter()\n",
    "    # Counter([\"a\", \"a\", \"b\"]) -> {\"a\":2, \"b\":1}\n",
    "    for url in articles:\n",
    "        tokens = prepare_text_for_lda(articles[url][2]) ##读取url.content\n",
    "        tokens = set(tokens) ##一个词文章出现很多次也只算一次，set([\"a\", \"a\", \"b\"]) -> [\"a\", \"b\"]\n",
    "        frequency += Counter(tokens)\n",
    "    return frequency"
   ]
  },
  {
   "cell_type": "code",
   "execution_count": 4,
   "metadata": {},
   "outputs": [
    {
     "name": "stdout",
     "output_type": "stream",
     "text": [
      "4168\n"
     ]
    }
   ],
   "source": [
    "file_name1 = 'coindesk.data'\n",
    "frequency1 = get_frequency(file_name1)"
   ]
  },
  {
   "cell_type": "code",
   "execution_count": 5,
   "metadata": {},
   "outputs": [
    {
     "name": "stdout",
     "output_type": "stream",
     "text": [
      "966\n"
     ]
    }
   ],
   "source": [
    "file_name2 = 'bitcoinmagazine.data'\n",
    "frequency2 = get_frequency(file_name2)"
   ]
  },
  {
   "cell_type": "code",
   "execution_count": 6,
   "metadata": {},
   "outputs": [
    {
     "name": "stdout",
     "output_type": "stream",
     "text": [
      "4392\n"
     ]
    }
   ],
   "source": [
    "file_name3 = 'bitcoinnews.data'\n",
    "frequency3 = get_frequency(file_name3)"
   ]
  },
  {
   "cell_type": "code",
   "execution_count": 7,
   "metadata": {},
   "outputs": [
    {
     "name": "stdout",
     "output_type": "stream",
     "text": [
      "4600\n"
     ]
    }
   ],
   "source": [
    "file_name4 = 'bitcoinist.data'\n",
    "frequency4 = get_frequency(file_name4)"
   ]
  },
  {
   "cell_type": "code",
   "execution_count": 8,
   "metadata": {},
   "outputs": [
    {
     "name": "stdout",
     "output_type": "stream",
     "text": [
      "460\n"
     ]
    }
   ],
   "source": [
    "file_name5 = 'blockonomi.data'\n",
    "frequency5 = get_frequency(file_name5)"
   ]
  },
  {
   "cell_type": "code",
   "execution_count": 9,
   "metadata": {},
   "outputs": [],
   "source": [
    "frequency_overall = frequency1 + frequency2 + frequency3 + frequency4 + frequency5"
   ]
  },
  {
   "cell_type": "code",
   "execution_count": 10,
   "metadata": {},
   "outputs": [
    {
     "data": {
      "text/plain": [
       "[('also', 10430),\n",
       " ('cryptocurrency', 10078),\n",
       " ('bitcoin', 8767),\n",
       " ('say', 8354),\n",
       " ('new', 8229),\n",
       " ('one', 7997),\n",
       " ('company', 7316),\n",
       " ('market', 7186),\n",
       " ('exchange', 7076),\n",
       " ('blockchain', 7028),\n",
       " ('use', 7000),\n",
       " ('make', 6874),\n",
       " ('time', 6694),\n",
       " ('crypto', 6625),\n",
       " ('accord', 6468),\n",
       " ('first', 6232),\n",
       " ('would', 5773),\n",
       " ('cryptocurrencies', 5760),\n",
       " ('platform', 5752),\n",
       " ('include', 5670),\n",
       " ('technology', 5477),\n",
       " ('like', 5445),\n",
       " ('last', 5411),\n",
       " ('take', 5409),\n",
       " ('report', 5216),\n",
       " ('year', 5195),\n",
       " ('however', 5108),\n",
       " ('world', 5051),\n",
       " ('financial', 5047),\n",
       " ('trading', 5027),\n",
       " ('many', 5020),\n",
       " ('state', 4963),\n",
       " ('may', 4931),\n",
       " ('user', 4928),\n",
       " ('digital', 4896),\n",
       " ('see', 4880),\n",
       " ('provide', 4858),\n",
       " ('could', 4853),\n",
       " ('add', 4819),\n",
       " ('come', 4750),\n",
       " ('million', 4705),\n",
       " ('read', 4698),\n",
       " ('currency', 4683),\n",
       " ('investor', 4632),\n",
       " ('business', 4571),\n",
       " ('price', 4549),\n",
       " ('well', 4513),\n",
       " ('announce', 4492),\n",
       " ('month', 4487),\n",
       " ('token', 4459),\n",
       " ('people', 4372),\n",
       " ('allow', 4341),\n",
       " ('create', 4335),\n",
       " ('coin', 4323),\n",
       " ('since', 4293),\n",
       " ('two', 4276),\n",
       " ('even', 4264),\n",
       " ('need', 4229),\n",
       " ('launch', 4202),\n",
       " ('system', 4193),\n",
       " ('week', 4151),\n",
       " ('money', 4118),\n",
       " ('industry', 4047),\n",
       " ('project', 4039),\n",
       " ('using', 4039),\n",
       " ('security', 4013),\n",
       " ('still', 3965),\n",
       " ('way', 3963),\n",
       " ('issue', 3949),\n",
       " ('go', 3932),\n",
       " ('around', 3928),\n",
       " ('services', 3885),\n",
       " ('become', 3850),\n",
       " ('support', 3835),\n",
       " ('network', 3823),\n",
       " ('move', 3804),\n",
       " ('large', 3764),\n",
       " ('back', 3756),\n",
       " ('explain', 3746),\n",
       " ('get', 3699),\n",
       " ('future', 3676),\n",
       " ('continue', 3649),\n",
       " ('know', 3536),\n",
       " ('call', 3529),\n",
       " ('offer', 3521),\n",
       " ('number', 3502),\n",
       " ('another', 3431),\n",
       " ('value', 3409),\n",
       " ('investment', 3390),\n",
       " ('currently', 3368),\n",
       " ('transactions', 3365),\n",
       " ('country', 3348),\n",
       " ('base', 3344),\n",
       " ('interest', 3331),\n",
       " ('data', 3322),\n",
       " ('development', 3319),\n",
       " ('release', 3304),\n",
       " ('already', 3271),\n",
       " ('much', 3237),\n",
       " ('note', 3222),\n",
       " ('within', 3221),\n",
       " ('high', 3211),\n",
       " ('us', 3198),\n",
       " ('payment', 3185),\n",
       " ('plan', 3165),\n",
       " ('offering', 3152),\n",
       " ('change', 3140),\n",
       " ('order', 3131),\n",
       " ('years', 3129),\n",
       " ('trade', 3129),\n",
       " ('increase', 3128),\n",
       " ('ceo', 3127),\n",
       " ('want', 3110),\n",
       " ('public', 3106),\n",
       " ('start', 3105),\n",
       " ('help', 3072),\n",
       " ('assets', 3069),\n",
       " ('community', 3055),\n",
       " ('case', 3054),\n",
       " ('part', 3047),\n",
       " ('global', 3040),\n",
       " ('claim', 3039),\n",
       " ('set', 3036),\n",
       " ('today', 3023),\n",
       " ('process', 2996),\n",
       " ('work', 2990),\n",
       " ('team', 2978),\n",
       " ('tell', 2971),\n",
       " ('recently', 2942),\n",
       " ('ethereum', 2936),\n",
       " ('recent', 2933),\n",
       " ('firm', 2931),\n",
       " ('point', 2915),\n",
       " ('btc', 2887),\n",
       " ('news', 2885),\n",
       " ('percent', 2878),\n",
       " ('able', 2873),\n",
       " ('government', 2844),\n",
       " ('hold', 2840),\n",
       " ('bank', 2829),\n",
       " ('pay', 2828),\n",
       " ('place', 2817),\n",
       " ('open', 2800),\n",
       " ('medium', 2794),\n",
       " ('account', 2780),\n",
       " ('cash', 2780),\n",
       " ('end', 2727),\n",
       " ('funds', 2720),\n",
       " ('information', 2718),\n",
       " ('major', 2701),\n",
       " ('group', 2700),\n",
       " ('product', 2694),\n",
       " ('without', 2690),\n",
       " ('big', 2680),\n",
       " ('show', 2641),\n",
       " ('potential', 2632),\n",
       " ('next', 2626),\n",
       " ('space', 2614),\n",
       " ('look', 2599),\n",
       " ('service', 2593),\n",
       " ('customer', 2593),\n",
       " ('billion', 2576),\n",
       " ('receive', 2576),\n",
       " ('different', 2558),\n",
       " ('looking', 2548),\n",
       " ('wallet', 2544),\n",
       " ('yet', 2543),\n",
       " ('following', 2513),\n",
       " ('decentralize', 2512),\n",
       " ('result', 2475),\n",
       " ('going', 2472),\n",
       " ('build', 2452),\n",
       " ('current', 2443),\n",
       " ('solution', 2428),\n",
       " ('right', 2415),\n",
       " ('working', 2410),\n",
       " ('several', 2401),\n",
       " ('application', 2395),\n",
       " ('access', 2392),\n",
       " ('good', 2391),\n",
       " ('think', 2388),\n",
       " ('asset', 2386),\n",
       " ('far', 2369),\n",
       " ('though', 2368),\n",
       " ('amount', 2347),\n",
       " ('sell', 2342),\n",
       " ('making', 2337),\n",
       " ('risk', 2331),\n",
       " ('expect', 2323),\n",
       " ('buy', 2313),\n",
       " ('share', 2309),\n",
       " ('due', 2295),\n",
       " ('three', 2286),\n",
       " ('found', 2281),\n",
       " ('statement', 2262),\n",
       " ('begin', 2255),\n",
       " ('means', 2255),\n",
       " ('operate', 2254),\n",
       " ('seem', 2251),\n",
       " ('day', 2248),\n",
       " ('capital', 2242),\n",
       " ('top', 2237),\n",
       " ('example', 2228),\n",
       " ('require', 2226),\n",
       " ('past', 2221),\n",
       " ('ico', 2210),\n",
       " ('initial', 2209),\n",
       " ('among', 2201),\n",
       " ('regulation', 2196),\n",
       " ('every', 2194),\n",
       " ('long', 2192),\n",
       " ('give', 2192),\n",
       " ('days', 2189),\n",
       " ('transaction', 2170),\n",
       " ('exist', 2164),\n",
       " ('form', 2163),\n",
       " ('startup', 2159),\n",
       " ('mining', 2155),\n",
       " ('develop', 2146),\n",
       " ('bring', 2134),\n",
       " ('believe', 2130),\n",
       " ('involve', 2128),\n",
       " ('developer', 2120),\n",
       " ('comment', 2118),\n",
       " ('might', 2117),\n",
       " ('consider', 2117),\n",
       " ('aim', 2114),\n",
       " ('early', 2113),\n",
       " ('website', 2110),\n",
       " ('power', 2103),\n",
       " ('press', 2092),\n",
       " ('fact', 2080),\n",
       " ('follow', 2080),\n",
       " ('gain', 2074),\n",
       " ('level', 2070),\n",
       " ('experience', 2068),\n",
       " ('post', 2067),\n",
       " ('available', 2057),\n",
       " ('across', 2050),\n",
       " ('individual', 2050),\n",
       " ('key', 2047),\n",
       " ('feature', 2036),\n",
       " ('contract', 2035),\n",
       " ('list', 2031),\n",
       " ('likely', 2028),\n",
       " ('reveal', 2023),\n",
       " ('official', 2021),\n",
       " ('regulatory', 2018),\n",
       " ('dollar', 2017),\n",
       " ('problem', 2016),\n",
       " ('coindesk', 2011),\n",
       " ('second', 2008),\n",
       " ('write', 2003),\n",
       " ('le', 1998),\n",
       " ('worth', 1994),\n",
       " ('focus', 1990),\n",
       " ('whether', 1985),\n",
       " ('regulator', 1982),\n",
       " ('lot', 1972),\n",
       " ('control', 1949),\n",
       " ('partner', 1933),\n",
       " ('possible', 1933),\n",
       " ('effort', 1927),\n",
       " ('purchase', 1920),\n",
       " ('address', 1915),\n",
       " ('member', 1909),\n",
       " ('raise', 1909),\n",
       " ('total', 1903),\n",
       " ('private', 1901),\n",
       " ('real', 1893),\n",
       " ('online', 1891),\n",
       " ('try', 1890),\n",
       " ('founder', 1887),\n",
       " ('design', 1883),\n",
       " ('store', 1878),\n",
       " ('addition', 1875),\n",
       " ('run', 1874),\n",
       " ('put', 1871),\n",
       " ('per', 1869),\n",
       " ('activity', 1856),\n",
       " ('manage', 1840),\n",
       " ('earlier', 1836),\n",
       " ('popular', 1834),\n",
       " ('january', 1833),\n",
       " ('secure', 1830),\n",
       " ('best', 1821),\n",
       " ('appear', 1816),\n",
       " ('concern', 1814),\n",
       " ('ecosystem', 1814),\n",
       " ('hard', 1812),\n",
       " ('banks', 1811),\n",
       " ('traditional', 1798),\n",
       " ('better', 1791),\n",
       " ('benefit', 1782),\n",
       " ('despite', 1778),\n",
       " ('publish', 1774),\n",
       " ('idea', 1771),\n",
       " ('confirm', 1764),\n",
       " ('least', 1761),\n",
       " ('opportunity', 1761)]"
      ]
     },
     "execution_count": 10,
     "metadata": {},
     "output_type": "execute_result"
    }
   ],
   "source": [
    "frequency_overall.most_common(300)"
   ]
  },
  {
   "cell_type": "code",
   "execution_count": 11,
   "metadata": {},
   "outputs": [],
   "source": [
    "words = [item[0] for item in frequency_overall.most_common(300)]\n",
    "freqs = [item[1] for item in frequency_overall.most_common(300)]"
   ]
  },
  {
   "cell_type": "code",
   "execution_count": 12,
   "metadata": {},
   "outputs": [],
   "source": [
    "# Save data to a csv file\n",
    "d = {'word': words, 'frequency': freqs}\n",
    "df = pd.DataFrame(data=d)\n",
    "csv_file_name = 'word_stat.csv'\n",
    "df.to_csv(csv_file_name, index=False)"
   ]
  },
  {
   "cell_type": "markdown",
   "metadata": {},
   "source": [
    "# Frequency of keyword candidates"
   ]
  },
  {
   "cell_type": "code",
   "execution_count": 13,
   "metadata": {},
   "outputs": [],
   "source": [
    "### 读取keyword\n",
    "file_name = 'keywords.txt'\n",
    "freq_keyword = dict()\n",
    "with open(file_name, 'rb') as file:\n",
    "    for line in file:\n",
    "        keyword = line.strip().decode('UTF-8').lower()\n",
    "        freq_keyword[keyword] = 0"
   ]
  },
  {
   "cell_type": "code",
   "execution_count": 14,
   "metadata": {},
   "outputs": [],
   "source": [
    "def get_frequency2(file_name):\n",
    "    \n",
    "    freq_keyword = dict()\n",
    "    with open('keywords.txt', 'rb') as file:\n",
    "        for line in file:\n",
    "            keyword = line.strip().decode('UTF-8').lower()\n",
    "            freq_keyword[keyword] = 0\n",
    "            \n",
    "    with open(file_name, 'rb') as file:\n",
    "        data = pickle.load(file)\n",
    "    articles = data['articles']\n",
    "    print(len(articles))\n",
    "    for url in articles:\n",
    "        content = articles[url][2].lower()\n",
    "        for keyword in freq_keyword:\n",
    "            if re.search(keyword, articles[url][2]):\n",
    "                freq_keyword[keyword] += 1\n",
    "    return Counter(freq_keyword)"
   ]
  },
  {
   "cell_type": "code",
   "execution_count": 15,
   "metadata": {},
   "outputs": [
    {
     "name": "stdout",
     "output_type": "stream",
     "text": [
      "4168\n"
     ]
    }
   ],
   "source": [
    "file_name1 = 'coindesk.data'\n",
    "freq_keyword1 = get_frequency2(file_name1)"
   ]
  },
  {
   "cell_type": "code",
   "execution_count": 16,
   "metadata": {},
   "outputs": [
    {
     "name": "stdout",
     "output_type": "stream",
     "text": [
      "966\n"
     ]
    }
   ],
   "source": [
    "file_name2 = 'bitcoinmagazine.data'\n",
    "freq_keyword2 = get_frequency2(file_name2)"
   ]
  },
  {
   "cell_type": "code",
   "execution_count": 17,
   "metadata": {},
   "outputs": [
    {
     "name": "stdout",
     "output_type": "stream",
     "text": [
      "4392\n"
     ]
    }
   ],
   "source": [
    "file_name3 = 'bitcoinnews.data'\n",
    "freq_keyword3 = get_frequency2(file_name3)"
   ]
  },
  {
   "cell_type": "code",
   "execution_count": 18,
   "metadata": {},
   "outputs": [
    {
     "name": "stdout",
     "output_type": "stream",
     "text": [
      "4600\n"
     ]
    }
   ],
   "source": [
    "file_name4 = 'bitcoinist.data'\n",
    "freq_keyword4 = get_frequency2(file_name4)"
   ]
  },
  {
   "cell_type": "code",
   "execution_count": 19,
   "metadata": {},
   "outputs": [
    {
     "name": "stdout",
     "output_type": "stream",
     "text": [
      "460\n"
     ]
    }
   ],
   "source": [
    "file_name5 = 'blockonomi.data'\n",
    "freq_keyword5 = get_frequency2(file_name5)"
   ]
  },
  {
   "cell_type": "code",
   "execution_count": 20,
   "metadata": {},
   "outputs": [],
   "source": [
    "freq_keyword = freq_keyword1 + freq_keyword2 + freq_keyword3 + freq_keyword4 + freq_keyword5"
   ]
  },
  {
   "cell_type": "code",
   "execution_count": 21,
   "metadata": {},
   "outputs": [
    {
     "data": {
      "text/plain": [
       "[('crypto', 11933),\n",
       " ('sto', 10130),\n",
       " ('cryptocurrency', 9927),\n",
       " ('market', 7666),\n",
       " ('sec', 7385),\n",
       " ('blockchain', 6760),\n",
       " ('bitcoin', 6021),\n",
       " ('ether', 4872),\n",
       " ('trading', 4764),\n",
       " ('token', 4490),\n",
       " ('payment', 3181),\n",
       " ('community', 2835),\n",
       " ('security', 2784),\n",
       " ('wallet', 2455),\n",
       " ('decentralized', 2371),\n",
       " ('regulation', 2081),\n",
       " ('cryptocurrency exchange', 2055),\n",
       " ('usa', 1643),\n",
       " ('ethereum', 1385),\n",
       " ('hack', 1356),\n",
       " ('banking', 1311),\n",
       " ('bear', 1300),\n",
       " ('bull', 1260),\n",
       " ('smart contract', 1250),\n",
       " ('investing', 950),\n",
       " ('ico', 906),\n",
       " ('scam', 865),\n",
       " ('retail', 837),\n",
       " ('altcoin', 724),\n",
       " ('compliance', 711),\n",
       " ('hash', 701),\n",
       " ('nodes', 584),\n",
       " ('litecoin', 516),\n",
       " ('neo', 439),\n",
       " ('society', 367),\n",
       " ('supply chain', 339),\n",
       " ('bubble', 335),\n",
       " ('ripple', 278),\n",
       " ('decentralized exchange', 254),\n",
       " ('forks', 246),\n",
       " ('new cryptocurrency', 240),\n",
       " ('cryptocurrency wallet', 218),\n",
       " ('eos', 187),\n",
       " ('cryptocurrency miner', 162),\n",
       " ('reddit', 101),\n",
       " ('dapps', 100),\n",
       " ('cryptocurrency market cap', 84),\n",
       " ('doge', 74),\n",
       " ('augur', 71),\n",
       " ('binance', 69),\n",
       " ('coinbase', 61),\n",
       " ('stable coin', 58),\n",
       " ('public chain', 57),\n",
       " ('central bank digital currency', 51),\n",
       " ('cryptocurrency news', 34),\n",
       " ('telegram', 32),\n",
       " ('cryptocurrency value', 22),\n",
       " ('github', 19),\n",
       " ('china', 16),\n",
       " ('private chain', 14),\n",
       " ('idex', 11),\n",
       " ('cryptocurrency list', 10),\n",
       " ('russia', 6),\n",
       " ('digital mining', 4),\n",
       " ('cryptocurrency charts', 3),\n",
       " ('forkdelta', 3),\n",
       " ('bancor', 3),\n",
       " ('europe', 2),\n",
       " ('cryptokitties', 2),\n",
       " ('kyber network', 2),\n",
       " ('huobi', 2),\n",
       " ('japan', 1),\n",
       " ('bithumb', 1),\n",
       " ('token store', 1)]"
      ]
     },
     "execution_count": 21,
     "metadata": {},
     "output_type": "execute_result"
    }
   ],
   "source": [
    "### 有个小问题：second会和sec匹配，如果出现了second也算作出现了sec\n",
    "freq_keyword.most_common()"
   ]
  },
  {
   "cell_type": "markdown",
   "metadata": {},
   "source": [
    "## 大写单词要单独处理"
   ]
  },
  {
   "cell_type": "code",
   "execution_count": 22,
   "metadata": {},
   "outputs": [
    {
     "data": {
      "text/plain": [
       "<_sre.SRE_Match object; span=(0, 3), match='sec'>"
      ]
     },
     "execution_count": 22,
     "metadata": {},
     "output_type": "execute_result"
    }
   ],
   "source": [
    "re.search('sec', 'second')"
   ]
  },
  {
   "cell_type": "code",
   "execution_count": 23,
   "metadata": {},
   "outputs": [],
   "source": [
    "freq_capital = {\n",
    "    'ICO': 0,\n",
    "    'STO': 0,\n",
    "    'SEC': 0,\n",
    "    'NEO': 0,\n",
    "    'EOS': 0,\n",
    "    'IDEX': 0,\n",
    "    'FCK': 0\n",
    "}"
   ]
  },
  {
   "cell_type": "code",
   "execution_count": 24,
   "metadata": {},
   "outputs": [],
   "source": [
    "file_name = 'coindesk.data'\n",
    "with open(file_name, 'rb') as file:\n",
    "    data = pickle.load(file)\n",
    "articles = data['articles']\n",
    "\n",
    "for url in articles:\n",
    "    content = articles[url][2]\n",
    "    for keyword in freq_capital:\n",
    "        if re.search(keyword, articles[url][2]):\n",
    "            freq_capital[keyword] += 1"
   ]
  },
  {
   "cell_type": "code",
   "execution_count": 25,
   "metadata": {},
   "outputs": [],
   "source": [
    "file_name = 'bitcoinmagazine.data'\n",
    "with open(file_name, 'rb') as file:\n",
    "    data = pickle.load(file)\n",
    "articles = data['articles']\n",
    "\n",
    "for url in articles:\n",
    "    content = articles[url][2]\n",
    "    for keyword in freq_capital:\n",
    "        if re.search(keyword, articles[url][2]):\n",
    "            freq_capital[keyword] += 1"
   ]
  },
  {
   "cell_type": "code",
   "execution_count": 26,
   "metadata": {},
   "outputs": [],
   "source": [
    "file_name = 'bitcoinnews.data'\n",
    "with open(file_name, 'rb') as file:\n",
    "    data = pickle.load(file)\n",
    "articles = data['articles']\n",
    "\n",
    "for url in articles:\n",
    "    content = articles[url][2]\n",
    "    for keyword in freq_capital:\n",
    "        if re.search(keyword, articles[url][2]):\n",
    "            freq_capital[keyword] += 1"
   ]
  },
  {
   "cell_type": "code",
   "execution_count": 27,
   "metadata": {},
   "outputs": [],
   "source": [
    "file_name = 'bitcoinist.data'\n",
    "with open(file_name, 'rb') as file:\n",
    "    data = pickle.load(file)\n",
    "articles = data['articles']\n",
    "\n",
    "for url in articles:\n",
    "    content = articles[url][2]\n",
    "    for keyword in freq_capital:\n",
    "        if re.search(keyword, articles[url][2]):\n",
    "            freq_capital[keyword] += 1"
   ]
  },
  {
   "cell_type": "code",
   "execution_count": 29,
   "metadata": {},
   "outputs": [],
   "source": [
    "file_name = 'blockonomi.data'\n",
    "with open(file_name, 'rb') as file:\n",
    "    data = pickle.load(file)\n",
    "articles = data['articles']\n",
    "\n",
    "for url in articles:\n",
    "    content = articles[url][2]\n",
    "    for keyword in freq_capital:\n",
    "        if re.search(keyword, articles[url][2]):\n",
    "            freq_capital[keyword] += 1"
   ]
  },
  {
   "cell_type": "code",
   "execution_count": 30,
   "metadata": {},
   "outputs": [],
   "source": [
    "freq_keyword = dict(freq_keyword)"
   ]
  },
  {
   "cell_type": "code",
   "execution_count": 31,
   "metadata": {},
   "outputs": [],
   "source": [
    "del freq_keyword['ico']\n",
    "del freq_keyword['sto']\n",
    "del freq_keyword['sec']\n",
    "del freq_keyword['neo'] \n",
    "del freq_keyword['eos'] \n",
    "del freq_keyword['idex'] "
   ]
  },
  {
   "cell_type": "code",
   "execution_count": 32,
   "metadata": {},
   "outputs": [],
   "source": [
    "### 删除原先小写的ico，sto等，加入大写的ICO，STO。。。\n",
    "freq_keyword = Counter(freq_keyword)\n",
    "freq_keyword += freq_capital"
   ]
  },
  {
   "cell_type": "code",
   "execution_count": 33,
   "metadata": {},
   "outputs": [],
   "source": [
    "words = [item[0] for item in freq_keyword.most_common()]\n",
    "freqs = [item[1] for item in freq_keyword.most_common()]"
   ]
  },
  {
   "cell_type": "code",
   "execution_count": 34,
   "metadata": {},
   "outputs": [],
   "source": [
    "# Save data to a csv file\n",
    "d = {'word': words, 'frequency': freqs}\n",
    "df = pd.DataFrame(data=d)\n",
    "csv_file_name = 'keyword_stat.csv'\n",
    "df.to_csv(csv_file_name, index=False)"
   ]
  }
 ],
 "metadata": {
  "kernelspec": {
   "display_name": "Python 3",
   "language": "python",
   "name": "python3"
  },
  "language_info": {
   "codemirror_mode": {
    "name": "ipython",
    "version": 3
   },
   "file_extension": ".py",
   "mimetype": "text/x-python",
   "name": "python",
   "nbconvert_exporter": "python",
   "pygments_lexer": "ipython3",
   "version": "3.6.5"
  }
 },
 "nbformat": 4,
 "nbformat_minor": 2
}
